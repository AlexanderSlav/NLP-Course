{
 "cells": [
  {
   "cell_type": "code",
   "execution_count": 3,
   "id": "periodic-cheat",
   "metadata": {},
   "outputs": [
    {
     "name": "stderr",
     "output_type": "stream",
     "text": [
      "[nltk_data] Downloading package stopwords to\n",
      "[nltk_data]     /home/alexander/nltk_data...\n",
      "[nltk_data]   Package stopwords is already up-to-date!\n"
     ]
    }
   ],
   "source": [
    "import nlp_utils\n",
    "from time import time\n",
    "from sklearn.feature_extraction.text import TfidfVectorizer\n",
    "import matplotlib.pyplot as plt\n",
    "from sklearn.pipeline import Pipeline\n",
    "from sklearn.metrics import classification_report, confusion_matrix\n",
    "from sklearn.model_selection import train_test_split\n",
    "from sklearn.feature_selection import SelectKBest, chi2\n",
    "import numpy as np"
   ]
  },
  {
   "cell_type": "markdown",
   "id": "anonymous-genome",
   "metadata": {},
   "source": [
    "## Preprocessing"
   ]
  },
  {
   "cell_type": "code",
   "execution_count": 2,
   "id": "welcome-cabinet",
   "metadata": {},
   "outputs": [],
   "source": [
    "# Load parsed news dataset\n",
    "dataset = nlp_utils.NewsTextDataset()\n",
    "dataset.load(\"/home/alexander/HSE_Stuff/NLP-Course/datasets/final_dataset_4k.json\")"
   ]
  },
  {
   "cell_type": "code",
   "execution_count": 3,
   "id": "formed-mouse",
   "metadata": {},
   "outputs": [
    {
     "data": {
      "text/plain": [
       "'Сооснователь и в прошлом многолетний руководитель Microsoft Билл Гейтс стал крупнейшим частным владельцем сельскохозяйственных угодий в США, пишет российское издание журнала Forbes со ссылкой на The Land Report.\\nГейтс скупал сельскохозяйственные угодья на протяжении нескольких лет, и сейчас ему принадлежат участки в 19 штатах, подсчитало издание. Крупнейшие расположены в Луизиане (280 кв. км), Арканзасе (194 кв. км) и Небраске (83 кв. км). Земли напрямую или опосредованно принадлежат Cascade Investments - инвестиционному фонду, который инвестирует средства семьи Гейтса, указал The Land Report.\\nЧасть участков предприниматель скупает через подконтрольный ему инвестиционный фонд Cascade Investment.\\nCascade Investments не ответил на запрос Forbes USA. Как именно используются принадлежащие Гейтсу земли, до конца неясно. Журнал обращает внимание, что \"дочка\" Cascade Cottonwood Ag Management входит в некоммерческую организацию Leading Harvest, которая выступает за защиту культур, почвы и водных ресурсов.\\nХотя Гейтс крупнейший частный владелец сельхозугодий в США, он далеко не ключевой землевладелец в стране. Список 100 крупнейших землевладельцев США по версии американского Forbes The Land Report 2019 года сплошь состоит из корпораций.\\nФонд Билла и Мелинды Гейтс давно интересуется сельским хозяйством - с точки зрения науки и экологии. На сайте фонда говорится о четырех целях этой работы: повысить продуктивность небольших фермерских хозяйств и их дохода, развивать потребление доступных и безопасных для человека продуктов, увеличить возможности женщин в сельском хозяйстве.\\nВ частности, в 2008 году фонд объявил о выделении $306 млн на гранты для развития ответственного земледелия в регионе к югу от Сахары и в Южной Азии. Тогда Гейтс заявил, что поддержка сельского хозяйства в развивающихся странах практически игнорировалась в последние десятилетия, а она, по его мнению, является важнейшим инструментом для стимулирования развития районов, где живут беднейшие люди.\\nГейтс также вкладывал деньги в создание сельскохозяйственных культур, устойчивых к изменению климата, а также в выведение высокопродуктивных молочных коров.\\nБилл Гейтс находится на четвертом месте в списке богатейших людей мира по версии Forbes (обновляется в реальном времени). Его состояние насчитывает 120,5 млрд долларов.'"
      ]
     },
     "execution_count": 3,
     "metadata": {},
     "output_type": "execute_result"
    }
   ],
   "source": [
    "# Before preprocessing\n",
    "dataset[0].text"
   ]
  },
  {
   "cell_type": "code",
   "execution_count": 4,
   "id": "acquired-keyboard",
   "metadata": {},
   "outputs": [
    {
     "name": "stderr",
     "output_type": "stream",
     "text": [
      "3999it [00:43, 91.88it/s] \n"
     ]
    }
   ],
   "source": [
    "# Preprocessing\n",
    "dataset.preprocess()"
   ]
  },
  {
   "cell_type": "code",
   "execution_count": 15,
   "id": "herbal-craps",
   "metadata": {},
   "outputs": [
    {
     "data": {
      "text/plain": [
       "['сооснователь', 'прошлый', 'многолетний', 'руководитель', 'билл']"
      ]
     },
     "execution_count": 15,
     "metadata": {},
     "output_type": "execute_result"
    }
   ],
   "source": [
    "# After preprocessing (only fixe first words)\n",
    "dataset[0].tokenized_text[:5]"
   ]
  },
  {
   "cell_type": "code",
   "execution_count": 5,
   "id": "gorgeous-duration",
   "metadata": {},
   "outputs": [],
   "source": [
    "# We can load & save dataset\n",
    "dataset.save(\"/home/alexander/HSE_Stuff/NLP-Course/datasets/final_dataset_4k_tokenized.json\")"
   ]
  },
  {
   "cell_type": "code",
   "execution_count": 4,
   "id": "physical-athletics",
   "metadata": {},
   "outputs": [],
   "source": [
    "dataset = nlp_utils.NewsTextDataset()\n",
    "dataset.load(\"/home/alexander/HSE_Stuff/NLP-Course/datasets/final_dataset_4k_cleaned.json\")"
   ]
  },
  {
   "cell_type": "code",
   "execution_count": 5,
   "id": "capable-handle",
   "metadata": {},
   "outputs": [],
   "source": [
    "data = dataset.dump_to_pandas()"
   ]
  },
  {
   "cell_type": "code",
   "execution_count": 6,
   "id": "stupid-greek",
   "metadata": {},
   "outputs": [
    {
     "data": {
      "text/html": [
       "<div>\n",
       "<style scoped>\n",
       "    .dataframe tbody tr th:only-of-type {\n",
       "        vertical-align: middle;\n",
       "    }\n",
       "\n",
       "    .dataframe tbody tr th {\n",
       "        vertical-align: top;\n",
       "    }\n",
       "\n",
       "    .dataframe thead th {\n",
       "        text-align: right;\n",
       "    }\n",
       "</style>\n",
       "<table border=\"1\" class=\"dataframe\">\n",
       "  <thead>\n",
       "    <tr style=\"text-align: right;\">\n",
       "      <th></th>\n",
       "      <th>category</th>\n",
       "      <th>tokenized_text</th>\n",
       "    </tr>\n",
       "  </thead>\n",
       "  <tbody>\n",
       "    <tr>\n",
       "      <th>0</th>\n",
       "      <td>экономика</td>\n",
       "      <td>[сооснователь, прошлый, многолетний, руководит...</td>\n",
       "    </tr>\n",
       "    <tr>\n",
       "      <th>1</th>\n",
       "      <td>экономика</td>\n",
       "      <td>[минэкономразвития, дорабатывать, вносить, пра...</td>\n",
       "    </tr>\n",
       "    <tr>\n",
       "      <th>2</th>\n",
       "      <td>экономика</td>\n",
       "      <td>[счет, который, открывать, российский, граждан...</td>\n",
       "    </tr>\n",
       "    <tr>\n",
       "      <th>3</th>\n",
       "      <td>экономика</td>\n",
       "      <td>[российский, рубль, являться, самый, недооцени...</td>\n",
       "    </tr>\n",
       "    <tr>\n",
       "      <th>4</th>\n",
       "      <td>экономика</td>\n",
       "      <td>[российский, онлайн, кинотеатр, откладывать, н...</td>\n",
       "    </tr>\n",
       "    <tr>\n",
       "      <th>...</th>\n",
       "      <td>...</td>\n",
       "      <td>...</td>\n",
       "    </tr>\n",
       "    <tr>\n",
       "      <th>3994</th>\n",
       "      <td>спорт</td>\n",
       "      <td>[нападающий, ска, санкт-петербург, антон, бурд...</td>\n",
       "    </tr>\n",
       "    <tr>\n",
       "      <th>3995</th>\n",
       "      <td>спорт</td>\n",
       "      <td>[матч, реванш, временный, чемпион, версия, все...</td>\n",
       "    </tr>\n",
       "    <tr>\n",
       "      <th>3996</th>\n",
       "      <td>спорт</td>\n",
       "      <td>[финский, клуб, йокерит, продолжать, соблюдать...</td>\n",
       "    </tr>\n",
       "    <tr>\n",
       "      <th>3997</th>\n",
       "      <td>спорт</td>\n",
       "      <td>[против, бывший, футболист, сборная, россия, р...</td>\n",
       "    </tr>\n",
       "    <tr>\n",
       "      <th>3998</th>\n",
       "      <td>спорт</td>\n",
       "      <td>[тель-авив, хайфа, готовый, рассматривать, воп...</td>\n",
       "    </tr>\n",
       "  </tbody>\n",
       "</table>\n",
       "<p>3999 rows × 2 columns</p>\n",
       "</div>"
      ],
      "text/plain": [
       "       category                                     tokenized_text\n",
       "0     экономика  [сооснователь, прошлый, многолетний, руководит...\n",
       "1     экономика  [минэкономразвития, дорабатывать, вносить, пра...\n",
       "2     экономика  [счет, который, открывать, российский, граждан...\n",
       "3     экономика  [российский, рубль, являться, самый, недооцени...\n",
       "4     экономика  [российский, онлайн, кинотеатр, откладывать, н...\n",
       "...         ...                                                ...\n",
       "3994      спорт  [нападающий, ска, санкт-петербург, антон, бурд...\n",
       "3995      спорт  [матч, реванш, временный, чемпион, версия, все...\n",
       "3996      спорт  [финский, клуб, йокерит, продолжать, соблюдать...\n",
       "3997      спорт  [против, бывший, футболист, сборная, россия, р...\n",
       "3998      спорт  [тель-авив, хайфа, готовый, рассматривать, воп...\n",
       "\n",
       "[3999 rows x 2 columns]"
      ]
     },
     "execution_count": 6,
     "metadata": {},
     "output_type": "execute_result"
    }
   ],
   "source": [
    "data"
   ]
  },
  {
   "cell_type": "code",
   "execution_count": 7,
   "id": "frank-lesbian",
   "metadata": {},
   "outputs": [
    {
     "data": {
      "text/html": [
       "<div>\n",
       "<style scoped>\n",
       "    .dataframe tbody tr th:only-of-type {\n",
       "        vertical-align: middle;\n",
       "    }\n",
       "\n",
       "    .dataframe tbody tr th {\n",
       "        vertical-align: top;\n",
       "    }\n",
       "\n",
       "    .dataframe thead th {\n",
       "        text-align: right;\n",
       "    }\n",
       "</style>\n",
       "<table border=\"1\" class=\"dataframe\">\n",
       "  <thead>\n",
       "    <tr style=\"text-align: right;\">\n",
       "      <th></th>\n",
       "      <th>tokenized_text</th>\n",
       "    </tr>\n",
       "    <tr>\n",
       "      <th>category</th>\n",
       "      <th></th>\n",
       "    </tr>\n",
       "  </thead>\n",
       "  <tbody>\n",
       "    <tr>\n",
       "      <th>культура</th>\n",
       "      <td>1000</td>\n",
       "    </tr>\n",
       "    <tr>\n",
       "      <th>спорт</th>\n",
       "      <td>1000</td>\n",
       "    </tr>\n",
       "    <tr>\n",
       "      <th>технологии</th>\n",
       "      <td>1000</td>\n",
       "    </tr>\n",
       "    <tr>\n",
       "      <th>экономика</th>\n",
       "      <td>999</td>\n",
       "    </tr>\n",
       "  </tbody>\n",
       "</table>\n",
       "</div>"
      ],
      "text/plain": [
       "            tokenized_text\n",
       "category                  \n",
       "культура              1000\n",
       "спорт                 1000\n",
       "технологии            1000\n",
       "экономика              999"
      ]
     },
     "execution_count": 7,
     "metadata": {},
     "output_type": "execute_result"
    }
   ],
   "source": [
    "data.groupby('category').count()"
   ]
  },
  {
   "cell_type": "code",
   "execution_count": 8,
   "id": "physical-father",
   "metadata": {},
   "outputs": [
    {
     "data": {
      "image/png": "[encoded data removed]",
      "text/plain": [
       "<Figure size 432x288 with 1 Axes>"
      ]
     },
     "metadata": {
      "needs_background": "light"
     },
     "output_type": "display_data"
    }
   ],
   "source": [
    "data.groupby('category').count().plot.bar(ylim=0)\n",
    "plt.show()"
   ]
  },
  {
   "cell_type": "code",
   "execution_count": 9,
   "id": "focused-traffic",
   "metadata": {},
   "outputs": [],
   "source": [
    "def convert_list_to_string(org_list, seperator=' '):\n",
    "    return seperator.join(org_list)"
   ]
  },
  {
   "cell_type": "code",
   "execution_count": 10,
   "id": "vocal-bermuda",
   "metadata": {},
   "outputs": [
    {
     "data": {
      "text/plain": [
       "0       сооснователь прошлый многолетний руководитель ...\n",
       "1       минэкономразвития дорабатывать вносить правите...\n",
       "2       счет который открывать российский гражданин ко...\n",
       "3       российский рубль являться самый недооценивать ...\n",
       "4       российский онлайн кинотеатр откладывать неопре...\n",
       "                              ...                        \n",
       "3994    нападающий ска санкт-петербург антон бурдасов ...\n",
       "3995    матч реванш временный чемпион версия всемирный...\n",
       "3996    финский клуб йокерит продолжать соблюдать двух...\n",
       "3997    против бывший футболист сборная россия роман ш...\n",
       "3998    тель-авив хайфа готовый рассматривать вопрос с...\n",
       "Name: tokenized_text, Length: 3999, dtype: object"
      ]
     },
     "execution_count": 10,
     "metadata": {},
     "output_type": "execute_result"
    }
   ],
   "source": [
    "data['tokenized_text'].apply(convert_list_to_string)"
   ]
  },
  {
   "cell_type": "code",
   "execution_count": 11,
   "id": "acute-spoke",
   "metadata": {},
   "outputs": [],
   "source": [
    "data['tokenized_text'] = data['tokenized_text'].apply(convert_list_to_string)"
   ]
  },
  {
   "cell_type": "code",
   "execution_count": 12,
   "id": "mature-charge",
   "metadata": {},
   "outputs": [
    {
     "data": {
      "text/html": [
       "<div>\n",
       "<style scoped>\n",
       "    .dataframe tbody tr th:only-of-type {\n",
       "        vertical-align: middle;\n",
       "    }\n",
       "\n",
       "    .dataframe tbody tr th {\n",
       "        vertical-align: top;\n",
       "    }\n",
       "\n",
       "    .dataframe thead th {\n",
       "        text-align: right;\n",
       "    }\n",
       "</style>\n",
       "<table border=\"1\" class=\"dataframe\">\n",
       "  <thead>\n",
       "    <tr style=\"text-align: right;\">\n",
       "      <th></th>\n",
       "      <th>category</th>\n",
       "      <th>tokenized_text</th>\n",
       "    </tr>\n",
       "  </thead>\n",
       "  <tbody>\n",
       "    <tr>\n",
       "      <th>0</th>\n",
       "      <td>экономика</td>\n",
       "      <td>сооснователь прошлый многолетний руководитель ...</td>\n",
       "    </tr>\n",
       "    <tr>\n",
       "      <th>1</th>\n",
       "      <td>экономика</td>\n",
       "      <td>минэкономразвития дорабатывать вносить правите...</td>\n",
       "    </tr>\n",
       "    <tr>\n",
       "      <th>2</th>\n",
       "      <td>экономика</td>\n",
       "      <td>счет который открывать российский гражданин ко...</td>\n",
       "    </tr>\n",
       "    <tr>\n",
       "      <th>3</th>\n",
       "      <td>экономика</td>\n",
       "      <td>российский рубль являться самый недооценивать ...</td>\n",
       "    </tr>\n",
       "    <tr>\n",
       "      <th>4</th>\n",
       "      <td>экономика</td>\n",
       "      <td>российский онлайн кинотеатр откладывать неопре...</td>\n",
       "    </tr>\n",
       "    <tr>\n",
       "      <th>...</th>\n",
       "      <td>...</td>\n",
       "      <td>...</td>\n",
       "    </tr>\n",
       "    <tr>\n",
       "      <th>3994</th>\n",
       "      <td>спорт</td>\n",
       "      <td>нападающий ска санкт-петербург антон бурдасов ...</td>\n",
       "    </tr>\n",
       "    <tr>\n",
       "      <th>3995</th>\n",
       "      <td>спорт</td>\n",
       "      <td>матч реванш временный чемпион версия всемирный...</td>\n",
       "    </tr>\n",
       "    <tr>\n",
       "      <th>3996</th>\n",
       "      <td>спорт</td>\n",
       "      <td>финский клуб йокерит продолжать соблюдать двух...</td>\n",
       "    </tr>\n",
       "    <tr>\n",
       "      <th>3997</th>\n",
       "      <td>спорт</td>\n",
       "      <td>против бывший футболист сборная россия роман ш...</td>\n",
       "    </tr>\n",
       "    <tr>\n",
       "      <th>3998</th>\n",
       "      <td>спорт</td>\n",
       "      <td>тель-авив хайфа готовый рассматривать вопрос с...</td>\n",
       "    </tr>\n",
       "  </tbody>\n",
       "</table>\n",
       "<p>3999 rows × 2 columns</p>\n",
       "</div>"
      ],
      "text/plain": [
       "       category                                     tokenized_text\n",
       "0     экономика  сооснователь прошлый многолетний руководитель ...\n",
       "1     экономика  минэкономразвития дорабатывать вносить правите...\n",
       "2     экономика  счет который открывать российский гражданин ко...\n",
       "3     экономика  российский рубль являться самый недооценивать ...\n",
       "4     экономика  российский онлайн кинотеатр откладывать неопре...\n",
       "...         ...                                                ...\n",
       "3994      спорт  нападающий ска санкт-петербург антон бурдасов ...\n",
       "3995      спорт  матч реванш временный чемпион версия всемирный...\n",
       "3996      спорт  финский клуб йокерит продолжать соблюдать двух...\n",
       "3997      спорт  против бывший футболист сборная россия роман ш...\n",
       "3998      спорт  тель-авив хайфа готовый рассматривать вопрос с...\n",
       "\n",
       "[3999 rows x 2 columns]"
      ]
     },
     "execution_count": 12,
     "metadata": {},
     "output_type": "execute_result"
    }
   ],
   "source": [
    "data"
   ]
  },
  {
   "cell_type": "code",
   "execution_count": 13,
   "id": "bearing-journalist",
   "metadata": {},
   "outputs": [],
   "source": [
    "vectorizer = TfidfVectorizer(min_df= 3, sublinear_tf=True, norm='l2', ngram_range=(1, 2))\n",
    "final_features = vectorizer.fit_transform(data['tokenized_text'])"
   ]
  },
  {
   "cell_type": "code",
   "execution_count": 14,
   "id": "elder-better",
   "metadata": {},
   "outputs": [
    {
     "data": {
      "text/plain": [
       "(3999, 69696)"
      ]
     },
     "execution_count": 14,
     "metadata": {},
     "output_type": "execute_result"
    }
   ],
   "source": [
    "final_features.shape"
   ]
  },
  {
   "cell_type": "code",
   "execution_count": 15,
   "id": "spectacular-exhibition",
   "metadata": {},
   "outputs": [],
   "source": [
    "X = data['tokenized_text']\n",
    "Y = data['category']"
   ]
  },
  {
   "cell_type": "code",
   "execution_count": 16,
   "id": "enabling-liechtenstein",
   "metadata": {},
   "outputs": [
    {
     "data": {
      "text/plain": [
       "0       экономика\n",
       "1       экономика\n",
       "2       экономика\n",
       "3       экономика\n",
       "4       экономика\n",
       "          ...    \n",
       "3994        спорт\n",
       "3995        спорт\n",
       "3996        спорт\n",
       "3997        спорт\n",
       "3998        спорт\n",
       "Name: category, Length: 3999, dtype: object"
      ]
     },
     "execution_count": 16,
     "metadata": {},
     "output_type": "execute_result"
    }
   ],
   "source": [
    "Y"
   ]
  },
  {
   "cell_type": "code",
   "execution_count": 17,
   "id": "academic-render",
   "metadata": {},
   "outputs": [],
   "source": [
    "X_train, X_test, y_train, y_test = train_test_split(X, Y, test_size=0.2)"
   ]
  },
  {
   "cell_type": "code",
   "execution_count": 18,
   "id": "civic-medline",
   "metadata": {},
   "outputs": [
    {
     "data": {
      "text/plain": [
       "(800,)"
      ]
     },
     "execution_count": 18,
     "metadata": {},
     "output_type": "execute_result"
    }
   ],
   "source": [
    "y_test.shape"
   ]
  },
  {
   "cell_type": "code",
   "execution_count": 22,
   "id": "pharmaceutical-alias",
   "metadata": {},
   "outputs": [],
   "source": [
    "ytest = np.array(y_test)"
   ]
  },
  {
   "cell_type": "markdown",
   "id": "expired-negotiation",
   "metadata": {},
   "source": [
    "### Some tests"
   ]
  },
  {
   "cell_type": "code",
   "execution_count": 69,
   "id": "reliable-denmark",
   "metadata": {},
   "outputs": [],
   "source": [
    "def custom_tests(model, text=['Спорт полезен для здоровья',\n",
    "                             'Человек должен разбираться в исскустве',\n",
    "                             'Будущее за нейросетями!!!',\n",
    "                             'Когда уже рубль будет расти???']):\n",
    "    answers = [(label, text) for label, text in zip(model.predict(text), text)]\n",
    "    return answers"
   ]
  },
  {
   "cell_type": "markdown",
   "id": "dietary-prayer",
   "metadata": {},
   "source": [
    "# Classification"
   ]
  },
  {
   "cell_type": "code",
   "execution_count": 44,
   "id": "least-norway",
   "metadata": {},
   "outputs": [],
   "source": [
    "from sklearn.linear_model import LinearRegression\n",
    "linear_reg_clf = Pipeline([('vect', vectorizer),\n",
    "                     ('chi',  SelectKBest(chi2, k=1200)),\n",
    "                     ('clf', LinearRegression())])"
   ]
  },
  {
   "cell_type": "code",
   "execution_count": 45,
   "id": "compatible-norfolk",
   "metadata": {},
   "outputs": [],
   "source": [
    "linear_reg_model = pipeline.fit(X_train, y_train)"
   ]
  },
  {
   "cell_type": "code",
   "execution_count": 70,
   "id": "tamil-trial",
   "metadata": {},
   "outputs": [
    {
     "data": {
      "text/plain": [
       "[('спорт', 'Спорт полезен для здоровья'),\n",
       " ('культура', 'Человек должен разбираться в исскустве'),\n",
       " ('культура', 'Будущее за нейросетями!!!'),\n",
       " ('экономика', 'Когда уже рубль будет расти???')]"
      ]
     },
     "execution_count": 70,
     "metadata": {},
     "output_type": "execute_result"
    }
   ],
   "source": [
    "custom_tests(linear_reg_model)"
   ]
  },
  {
   "cell_type": "code",
   "execution_count": 47,
   "id": "caring-furniture",
   "metadata": {},
   "outputs": [
    {
     "name": "stdout",
     "output_type": "stream",
     "text": [
      "              precision    recall  f1-score   support\n",
      "\n",
      "    культура       0.95      0.95      0.95       214\n",
      "       спорт       0.99      0.94      0.97       182\n",
      "  технологии       0.92      0.97      0.94       203\n",
      "   экономика       0.95      0.96      0.95       201\n",
      "\n",
      "    accuracy                           0.95       800\n",
      "   macro avg       0.95      0.95      0.95       800\n",
      "weighted avg       0.95      0.95      0.95       800\n",
      "\n",
      "[[203   1   9   1]\n",
      " [  9 171   0   2]\n",
      " [  0   0 196   7]\n",
      " [  1   0   8 192]]\n"
     ]
    }
   ],
   "source": [
    "print(classification_report(ytest, linear_reg_model.predict(X_test)))\n",
    "print(confusion_matrix(ytest, linear_reg_model.predict(X_test)))"
   ]
  },
  {
   "cell_type": "markdown",
   "id": "typical-stretch",
   "metadata": {},
   "source": [
    "### Logistic Regression"
   ]
  },
  {
   "cell_type": "code",
   "execution_count": 19,
   "id": "welsh-arena",
   "metadata": {},
   "outputs": [],
   "source": [
    "from sklearn.linear_model import LogisticRegression\n",
    "pipeline = Pipeline([('vect', vectorizer),\n",
    "                     ('chi',  SelectKBest(chi2, k=1200)),\n",
    "                     ('clf', LogisticRegression(random_state=42))])"
   ]
  },
  {
   "cell_type": "code",
   "execution_count": 73,
   "id": "downtown-manhattan",
   "metadata": {},
   "outputs": [],
   "source": [
    "log_reg_model = pipeline.fit(X_train, y_train)\n"
   ]
  },
  {
   "cell_type": "code",
   "execution_count": 72,
   "id": "large-bryan",
   "metadata": {},
   "outputs": [
    {
     "data": {
      "text/plain": [
       "[('спорт', 'Спорт полезен для здоровья'),\n",
       " ('культура', 'Человек должен разбираться в исскустве'),\n",
       " ('культура', 'Будущее за нейросетями!!!'),\n",
       " ('экономика', 'Когда уже рубль будет расти???')]"
      ]
     },
     "execution_count": 72,
     "metadata": {},
     "output_type": "execute_result"
    }
   ],
   "source": [
    "custom_tests(log_reg_model)"
   ]
  },
  {
   "cell_type": "code",
   "execution_count": 21,
   "id": "boolean-interaction",
   "metadata": {},
   "outputs": [],
   "source": [
    "import pickle\n",
    "with open('models_weights/LogisticRegression.pickle', 'wb') as f:\n",
    "    pickle.dump(log_reg_model, f)"
   ]
  },
  {
   "cell_type": "code",
   "execution_count": 24,
   "id": "fuzzy-rough",
   "metadata": {},
   "outputs": [
    {
     "name": "stdout",
     "output_type": "stream",
     "text": [
      "              precision    recall  f1-score   support\n",
      "\n",
      "    культура       0.98      0.99      0.98       214\n",
      "       спорт       0.99      0.98      0.99       182\n",
      "  технологии       0.98      0.95      0.96       203\n",
      "   экономика       0.95      0.99      0.97       201\n",
      "\n",
      "    accuracy                           0.97       800\n",
      "   macro avg       0.98      0.98      0.98       800\n",
      "weighted avg       0.98      0.97      0.97       800\n",
      "\n",
      "[[211   1   0   2]\n",
      " [  2 179   0   1]\n",
      " [  3   1 192   7]\n",
      " [  0   0   3 198]]\n"
     ]
    }
   ],
   "source": [
    "# confusion matrix and classification report(precision, recall, F1-score)\n",
    "print(classification_report(ytest, log_reg_model.predict(X_test)))\n",
    "print(confusion_matrix(ytest, log_reg_model.predict(X_test)))"
   ]
  },
  {
   "cell_type": "markdown",
   "id": "scientific-salvation",
   "metadata": {},
   "source": [
    "### KNN"
   ]
  },
  {
   "cell_type": "code",
   "execution_count": 25,
   "id": "marine-title",
   "metadata": {},
   "outputs": [],
   "source": [
    "from sklearn.neighbors import KNeighborsClassifier"
   ]
  },
  {
   "cell_type": "code",
   "execution_count": 26,
   "id": "spoken-oregon",
   "metadata": {},
   "outputs": [],
   "source": [
    "pipeline = Pipeline([('vect', vectorizer),\n",
    "                     ('chi',  SelectKBest(chi2, k=1200)),\n",
    "                     ('clf', KNeighborsClassifier(n_neighbors=7))])"
   ]
  },
  {
   "cell_type": "code",
   "execution_count": 27,
   "id": "collaborative-technician",
   "metadata": {},
   "outputs": [],
   "source": [
    "knn_model = pipeline.fit(X_train, y_train)\n",
    "import pickle\n",
    "with open('models_weights/KNN.pickle', 'wb') as f:\n",
    "    pickle.dump(knn_model, f)"
   ]
  },
  {
   "cell_type": "code",
   "execution_count": 74,
   "id": "latest-nothing",
   "metadata": {},
   "outputs": [
    {
     "data": {
      "text/plain": [
       "[('спорт', 'Спорт полезен для здоровья'),\n",
       " ('культура', 'Человек должен разбираться в исскустве'),\n",
       " ('культура', 'Будущее за нейросетями!!!'),\n",
       " ('экономика', 'Когда уже рубль будет расти???')]"
      ]
     },
     "execution_count": 74,
     "metadata": {},
     "output_type": "execute_result"
    }
   ],
   "source": [
    "custom_tests(knn_model)"
   ]
  },
  {
   "cell_type": "code",
   "execution_count": 28,
   "id": "considered-masters",
   "metadata": {},
   "outputs": [
    {
     "name": "stdout",
     "output_type": "stream",
     "text": [
      "              precision    recall  f1-score   support\n",
      "\n",
      "    культура       0.95      0.95      0.95       214\n",
      "       спорт       0.99      0.94      0.97       182\n",
      "  технологии       0.92      0.97      0.94       203\n",
      "   экономика       0.95      0.96      0.95       201\n",
      "\n",
      "    accuracy                           0.95       800\n",
      "   macro avg       0.95      0.95      0.95       800\n",
      "weighted avg       0.95      0.95      0.95       800\n",
      "\n",
      "[[203   1   9   1]\n",
      " [  9 171   0   2]\n",
      " [  0   0 196   7]\n",
      " [  1   0   8 192]]\n"
     ]
    }
   ],
   "source": [
    "# confusion matrix and classification report(precision, recall, F1-score)\n",
    "print(classification_report(ytest, knn_model.predict(X_test)))\n",
    "print(confusion_matrix(ytest, knn_model.predict(X_test)))"
   ]
  },
  {
   "cell_type": "markdown",
   "id": "mexican-turkey",
   "metadata": {},
   "source": [
    "### SVM"
   ]
  },
  {
   "cell_type": "code",
   "execution_count": 30,
   "id": "extra-riverside",
   "metadata": {},
   "outputs": [],
   "source": [
    "from sklearn.linear_model import SGDClassifier\n",
    "svm_clf = Pipeline([\n",
    "    ('vect', vectorizer),\n",
    "    ('clf', SGDClassifier(loss='hinge', penalty='l2',\n",
    "                          alpha=1e-3, random_state=42,\n",
    "                          max_iter=5, tol=None)),\n",
    "])"
   ]
  },
  {
   "cell_type": "code",
   "execution_count": 31,
   "id": "focal-blocking",
   "metadata": {},
   "outputs": [],
   "source": [
    "svm_model = svm_clf.fit(X_train, y_train)\n",
    "with open('models_weights/SVM.pickle', 'wb') as f:\n",
    "    pickle.dump(svm_model, f)"
   ]
  },
  {
   "cell_type": "code",
   "execution_count": 75,
   "id": "minus-confidence",
   "metadata": {},
   "outputs": [
    {
     "data": {
      "text/plain": [
       "[('спорт', 'Спорт полезен для здоровья'),\n",
       " ('культура', 'Человек должен разбираться в исскустве'),\n",
       " ('спорт', 'Будущее за нейросетями!!!'),\n",
       " ('экономика', 'Когда уже рубль будет расти???')]"
      ]
     },
     "execution_count": 75,
     "metadata": {},
     "output_type": "execute_result"
    }
   ],
   "source": [
    "custom_tests(svm_model)"
   ]
  },
  {
   "cell_type": "code",
   "execution_count": 32,
   "id": "tropical-asset",
   "metadata": {},
   "outputs": [
    {
     "name": "stdout",
     "output_type": "stream",
     "text": [
      "              precision    recall  f1-score   support\n",
      "\n",
      "    культура       0.99      0.99      0.99       214\n",
      "       спорт       0.99      1.00      0.99       182\n",
      "  технологии       0.99      0.97      0.98       203\n",
      "   экономика       0.97      0.99      0.98       201\n",
      "\n",
      "    accuracy                           0.98       800\n",
      "   macro avg       0.99      0.99      0.99       800\n",
      "weighted avg       0.99      0.98      0.98       800\n",
      "\n",
      "[[212   1   0   1]\n",
      " [  0 182   0   0]\n",
      " [  1   1 196   5]\n",
      " [  1   0   2 198]]\n"
     ]
    }
   ],
   "source": [
    "# confusion matrix and classification report(precision, recall, F1-score)\n",
    "print(classification_report(ytest, svm_model.predict(X_test)))\n",
    "print(confusion_matrix(ytest, svm_model.predict(X_test)))"
   ]
  },
  {
   "cell_type": "markdown",
   "id": "assisted-research",
   "metadata": {},
   "source": [
    "### Naive Bayes"
   ]
  },
  {
   "cell_type": "code",
   "execution_count": 33,
   "id": "superior-sperm",
   "metadata": {},
   "outputs": [],
   "source": [
    "from sklearn.naive_bayes import MultinomialNB\n",
    "naive_clf = Pipeline([\n",
    "    ('vect', vectorizer),\n",
    "     ('clf', MultinomialNB())\n",
    "])"
   ]
  },
  {
   "cell_type": "code",
   "execution_count": 34,
   "id": "differential-morrison",
   "metadata": {},
   "outputs": [],
   "source": [
    "nb_model = naive_clf.fit(X_train, y_train)\n",
    "with open('models_weights/Naive_Bayes.pickle', 'wb') as f:\n",
    "    pickle.dump(nb_model, f)"
   ]
  },
  {
   "cell_type": "code",
   "execution_count": 76,
   "id": "comparative-belize",
   "metadata": {},
   "outputs": [
    {
     "data": {
      "text/plain": [
       "[('спорт', 'Спорт полезен для здоровья'),\n",
       " ('культура', 'Человек должен разбираться в исскустве'),\n",
       " ('технологии', 'Будущее за нейросетями!!!'),\n",
       " ('экономика', 'Когда уже рубль будет расти???')]"
      ]
     },
     "execution_count": 76,
     "metadata": {},
     "output_type": "execute_result"
    }
   ],
   "source": [
    "custom_tests(nb_model)"
   ]
  },
  {
   "cell_type": "code",
   "execution_count": 35,
   "id": "after-mixer",
   "metadata": {},
   "outputs": [
    {
     "name": "stdout",
     "output_type": "stream",
     "text": [
      "              precision    recall  f1-score   support\n",
      "\n",
      "    культура       0.98      0.99      0.98       214\n",
      "       спорт       0.99      0.97      0.98       182\n",
      "  технологии       0.98      0.95      0.96       203\n",
      "   экономика       0.95      0.99      0.97       201\n",
      "\n",
      "    accuracy                           0.97       800\n",
      "   macro avg       0.97      0.97      0.97       800\n",
      "weighted avg       0.97      0.97      0.97       800\n",
      "\n",
      "[[212   1   0   1]\n",
      " [  3 177   0   2]\n",
      " [  2   1 192   8]\n",
      " [  0   0   3 198]]\n"
     ]
    }
   ],
   "source": [
    "print(classification_report(ytest, nb_model.predict(X_test)))\n",
    "print(confusion_matrix(ytest, nb_model.predict(X_test)))"
   ]
  },
  {
   "cell_type": "markdown",
   "id": "fiscal-lloyd",
   "metadata": {},
   "source": [
    "### Random Forest Classifier"
   ]
  },
  {
   "cell_type": "code",
   "execution_count": 37,
   "id": "secure-pulse",
   "metadata": {},
   "outputs": [],
   "source": [
    "from sklearn.ensemble import RandomForestClassifier"
   ]
  },
  {
   "cell_type": "code",
   "execution_count": 38,
   "id": "fifth-plant",
   "metadata": {},
   "outputs": [],
   "source": [
    "radom_forest_clf = Pipeline([\n",
    "    ('vect', vectorizer),\n",
    "     ('clf', RandomForestClassifier())\n",
    "])"
   ]
  },
  {
   "cell_type": "code",
   "execution_count": 42,
   "id": "becoming-lawyer",
   "metadata": {},
   "outputs": [],
   "source": [
    "radom_forest_model = radom_forest_clf.fit(X_train, y_train)\n",
    "with open('models_weights/RandomForest.pickle', 'wb') as f:\n",
    "    pickle.dump(radom_forest_model, f)"
   ]
  },
  {
   "cell_type": "code",
   "execution_count": 77,
   "id": "educated-brush",
   "metadata": {},
   "outputs": [
    {
     "data": {
      "text/plain": [
       "[('спорт', 'Спорт полезен для здоровья'),\n",
       " ('культура', 'Человек должен разбираться в исскустве'),\n",
       " ('спорт', 'Будущее за нейросетями!!!'),\n",
       " ('культура', 'Когда уже рубль будет расти???')]"
      ]
     },
     "execution_count": 77,
     "metadata": {},
     "output_type": "execute_result"
    }
   ],
   "source": [
    "custom_tests(radom_forest_model)"
   ]
  },
  {
   "cell_type": "code",
   "execution_count": 40,
   "id": "romance-blast",
   "metadata": {},
   "outputs": [
    {
     "name": "stdout",
     "output_type": "stream",
     "text": [
      "              precision    recall  f1-score   support\n",
      "\n",
      "    культура       0.98      0.97      0.97       214\n",
      "       спорт       0.98      0.99      0.98       182\n",
      "  технологии       0.96      0.97      0.97       203\n",
      "   экономика       0.98      0.97      0.97       201\n",
      "\n",
      "    accuracy                           0.97       800\n",
      "   macro avg       0.97      0.97      0.97       800\n",
      "weighted avg       0.97      0.97      0.97       800\n",
      "\n",
      "[[207   3   2   2]\n",
      " [  2 180   0   0]\n",
      " [  3   1 197   2]\n",
      " [  0   0   6 195]]\n"
     ]
    }
   ],
   "source": [
    "print(classification_report(ytest, radom_forest_model.predict(X_test)))\n",
    "print(confusion_matrix(ytest, radom_forest_model.predict(X_test)))"
   ]
  },
  {
   "cell_type": "code",
   "execution_count": null,
   "id": "protected-twenty",
   "metadata": {},
   "outputs": [],
   "source": []
  }
 ],
 "metadata": {
  "kernelspec": {
   "display_name": "nlp-env",
   "language": "python",
   "name": "nlp-env"
  },
  "language_info": {
   "codemirror_mode": {
    "name": "ipython",
    "version": 3
   },
   "file_extension": ".py",
   "mimetype": "text/x-python",
   "name": "python",
   "nbconvert_exporter": "python",
   "pygments_lexer": "ipython3",
   "version": "3.7.5"
  }
 },
 "nbformat": 4,
 "nbformat_minor": 5
}
